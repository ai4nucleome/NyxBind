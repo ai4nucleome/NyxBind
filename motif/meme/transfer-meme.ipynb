{
 "cells": [
  {
   "cell_type": "markdown",
   "id": "277f9c41",
   "metadata": {},
   "source": [
    "You can transfer the generated PFM into meme use this code."
   ]
  },
  {
   "cell_type": "code",
   "execution_count": 1,
   "id": "4949d550",
   "metadata": {},
   "outputs": [
    {
     "name": "stdout",
     "output_type": "stream",
     "text": [
      "Processing folder: BATFJUN\n",
      "Converted motif_GACTCA.jaspar to ./NyxBind/BATFJUN.meme\n",
      "Processing folder: CTCFL\n",
      "Converted motif_CAGGGG.jaspar to ./NyxBind/CTCFL.meme\n",
      "Processing folder: CEBPA\n",
      "Converted motif_GCACAA.jaspar to ./NyxBind/CEBPA.meme\n",
      "Processing folder: CDX2\n",
      "Converted motif_CAATAA.jaspar to ./NyxBind/CDX2.meme\n",
      "非空文件夹总数: 4\n"
     ]
    }
   ],
   "source": [
    "import os\n",
    "import re\n",
    "import numpy as np\n",
    "\n",
    "def read_pfm(file_path):\n",
    "    \"\"\"Read a PFM file and return a 4xN matrix along with the TF name.\"\"\"\n",
    "    with open(file_path) as f:\n",
    "        lines = f.readlines()\n",
    "        header = lines[0].strip()\n",
    "        tf_name = header.split()[-1] if header.startswith(\">\") else \"unknown\"\n",
    "\n",
    "        matrix = []\n",
    "        for line in lines[1:]:  # Skip the first line\n",
    "            if line.strip() == \"\":\n",
    "                continue\n",
    "            values = re.findall(r\"[-+]?\\d*\\.\\d+|\\d+\", line)\n",
    "            matrix.append([float(v) for v in values[1:]])  # Skip the first letter\n",
    "    if len(matrix) != 4:\n",
    "        raise ValueError(f\"Expected 4 rows for A,C,G,T in {file_path}, got {len(matrix)}\")\n",
    "    return np.array(matrix), tf_name\n",
    "\n",
    "def single_pfm_to_meme(pfm_file_path, output_file, name, bg_freqs=None):\n",
    "    \"\"\"Convert a single PFM file to MEME format.\"\"\"\n",
    "    if bg_freqs is None:\n",
    "        bg_freqs = {\"A\": 0.25, \"C\": 0.25, \"G\": 0.25, \"T\": 0.25}\n",
    "\n",
    "    motif_id = os.path.splitext(os.path.basename(pfm_file_path))[0]\n",
    "    matrix, tf_name = read_pfm(pfm_file_path)\n",
    "    length = matrix.shape[1]\n",
    "\n",
    "    with open(output_file, \"w\") as fout:\n",
    "        fout.write(\"MEME version 4\\n\\n\")\n",
    "        fout.write(\"ALPHABET= ACGT\\n\\n\")\n",
    "        fout.write(\"strands: + -\\n\\n\")\n",
    "        fout.write(\"Background letter frequencies:\\n\")\n",
    "        fout.write(\" \".join([f\"{base} {freq:.3f}\" for base, freq in bg_freqs.items()]) + \"\\n\\n\")\n",
    "        fout.write(f\"MOTIF {name}\\n\")\n",
    "\n",
    "        fout.write(f\"letter-probability matrix: alength= 4 w= {length} nsites= 20 E= 0.0\\n\")\n",
    "        for col in matrix.T:\n",
    "            total = sum(col)\n",
    "            probs = col / total if total > 0 else [0.25, 0.25, 0.25, 0.25]\n",
    "            fout.write(\" \".join(f\"{p:.6f}\" for p in probs) + \"\\n\")\n",
    "        fout.write(\"\\n\")\n",
    "\n",
    "# Main script\n",
    "name = 'NyxBind'\n",
    "input_pfm_root = os.path.join(\"../result\", name)\n",
    "non_empty_count = 0  # Count of non-empty folders\n",
    "\n",
    "for file1 in os.listdir(input_pfm_root):\n",
    "    file1_path = os.path.join(input_pfm_root, file1)\n",
    "    if not os.path.isdir(file1_path):\n",
    "        continue\n",
    "\n",
    "    jaspar_files = [f for f in os.listdir(file1_path) if f.endswith(\".jaspar\")]\n",
    "    if not jaspar_files:\n",
    "        continue  # Skip empty folders\n",
    "\n",
    "    non_empty_count += 1\n",
    "    print(\"Processing folder:\", file1)\n",
    "\n",
    "    for file_name in jaspar_files:\n",
    "        full_path = os.path.join(file1_path, file_name)\n",
    "        output_meme_file = f\"./{name}/{file1}.meme\"\n",
    "        os.makedirs(os.path.dirname(output_meme_file), exist_ok=True)\n",
    "        single_pfm_to_meme(full_path, output_meme_file, file1)\n",
    "        print(f\"Converted {file_name} to {output_meme_file}\")\n",
    "\n",
    "print(f\"Total number of non-empty folders: {non_empty_count}\")\n"
   ]
  }
 ],
 "metadata": {
  "kernelspec": {
   "display_name": "dna",
   "language": "python",
   "name": "python3"
  },
  "language_info": {
   "codemirror_mode": {
    "name": "ipython",
    "version": 3
   },
   "file_extension": ".py",
   "mimetype": "text/x-python",
   "name": "python",
   "nbconvert_exporter": "python",
   "pygments_lexer": "ipython3",
   "version": "3.8.20"
  }
 },
 "nbformat": 4,
 "nbformat_minor": 5
}
